{
 "cells": [
  {
   "cell_type": "code",
   "execution_count": null,
   "id": "90853f3c-d2aa-446d-a457-75c55ec4222c",
   "metadata": {},
   "outputs": [],
   "source": [
    "#From renewables.ninja data, compute hourly average temperatures for a day\n",
    "\n",
    "import pandas as pd\n",
    "import matplotlib.pyplot as plt\n",
    "\n",
    "# Step 1: Read historical hourly temperature data\n",
    "# Replace 'your_hourly_temperature_data.csv' with the actual path to your CSV file\n",
    "df_temperature = pd.read_csv('lpz_spring_temp.csv')\n",
    "\n",
    "# Step 2: Convert 'time' column to datetime format\n",
    "df_temperature['time'] = pd.to_datetime(df_temperature['time'])\n",
    "\n",
    "# Step 3: Extract month, day, and hour components\n",
    "df_temperature['month'] = df_temperature['time'].dt.month\n",
    "df_temperature['day'] = df_temperature['time'].dt.day\n",
    "df_temperature['hour'] = df_temperature['time'].dt.hour\n",
    "\n",
    "# Step 4: Group by month, day, and hour and calculate the mean temperature\n",
    "df_avg_daily_temperature = df_temperature.groupby('hour')['t'].mean().reset_index()\n",
    "\n",
    "output_csv_path = 'lpz_avg_spring.csv'\n",
    "df_avg_daily_temperature.to_csv(output_csv_path, index=False)"
   ]
  },
  {
   "cell_type": "code",
   "execution_count": null,
   "id": "01be8265-4c25-490d-8488-ba6bfce809c5",
   "metadata": {},
   "outputs": [],
   "source": [
    "# Compute daily average temeratures for a year\n",
    "# Read CSV file into a DataFrame\n",
    "csv_file_path = 'T_scz.csv'\n",
    "df = pd.read_csv(csv_file_path)\n",
    "\n",
    "df['time'] = pd.to_datetime(df['time'])\n",
    "\n",
    "df.set_index('time', inplace=True)\n",
    "# Resample the time series to daily averages\n",
    "df_daily = df.resample('D').mean()\n",
    "\n",
    "output_csv_path = 'T_scz_daily.csv'\n",
    "df_daily.to_csv(output_csv_path, index=False)"
   ]
  }
 ],
 "metadata": {
  "kernelspec": {
   "display_name": "Python 3 (Spyder)",
   "language": "python3",
   "name": "python3"
  },
  "language_info": {
   "codemirror_mode": {
    "name": "ipython",
    "version": 3
   },
   "file_extension": ".py",
   "mimetype": "text/x-python",
   "name": "python",
   "nbconvert_exporter": "python",
   "pygments_lexer": "ipython3",
   "version": "3.8.18"
  }
 },
 "nbformat": 4,
 "nbformat_minor": 5
}
